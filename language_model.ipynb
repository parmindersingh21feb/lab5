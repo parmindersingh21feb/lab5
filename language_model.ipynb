{
  "nbformat": 4,
  "nbformat_minor": 0,
  "metadata": {
    "colab": {
      "name": "language_model.ipynb",
      "provenance": [],
      "collapsed_sections": []
    },
    "kernelspec": {
      "name": "python3",
      "display_name": "Python 3"
    },
    "accelerator": "GPU"
  },
  "cells": [
    {
      "cell_type": "code",
      "metadata": {
        "id": "yTA7r-UtLIkk",
        "colab_type": "code",
        "colab": {
          "base_uri": "https://localhost:8080/",
          "height": 55
        },
        "outputId": "e2c36b62-92c8-44ab-df71-d5a5d1918abd"
      },
      "source": [
        "from google.colab import drive\n",
        "drive.mount('/content/drive')"
      ],
      "execution_count": 41,
      "outputs": [
        {
          "output_type": "stream",
          "text": [
            "Drive already mounted at /content/drive; to attempt to forcibly remount, call drive.mount(\"/content/drive\", force_remount=True).\n"
          ],
          "name": "stdout"
        }
      ]
    },
    {
      "cell_type": "code",
      "metadata": {
        "id": "hgjoDE-OJRgI",
        "colab_type": "code",
        "colab": {}
      },
      "source": [
        "from fastai.text import *\n",
        "\n",
        "path = \"/content/drive/My Drive/DATA-475/imdb\""
      ],
      "execution_count": 42,
      "outputs": []
    },
    {
      "cell_type": "code",
      "metadata": {
        "id": "Ng9a7n9kste4",
        "colab_type": "code",
        "colab": {
          "base_uri": "https://localhost:8080/",
          "height": 17
        },
        "outputId": "244cfded-cd20-4930-b762-3ec8d527f28f"
      },
      "source": [
        "# create TextLMDataBunch using the csv in path\n",
        "#     remember to specify the text column\n",
        "data_lm = TextLMDataBunch.from_csv(\n",
        "    path,\n",
        "    \"train.csv\",\n",
        "    text_cols=\"review\"\n",
        ")"
      ],
      "execution_count": 43,
      "outputs": [
        {
          "output_type": "display_data",
          "data": {
            "text/html": [
              ""
            ],
            "text/plain": [
              "<IPython.core.display.HTML object>"
            ]
          },
          "metadata": {
            "tags": []
          }
        },
        {
          "output_type": "display_data",
          "data": {
            "text/html": [
              ""
            ],
            "text/plain": [
              "<IPython.core.display.HTML object>"
            ]
          },
          "metadata": {
            "tags": []
          }
        }
      ]
    },
    {
      "cell_type": "code",
      "metadata": {
        "id": "NCVGVEOWsS_G",
        "colab_type": "code",
        "colab": {
          "base_uri": "https://localhost:8080/",
          "height": 17
        },
        "outputId": "00295c71-02f5-4c8c-b684-5be37f2fa600"
      },
      "source": [
        "# create TextClasDataBunch using the csv in path\n",
        "#     remember to specify the text/label column\n",
        "#     specify test dataset, vocab, and bs\n",
        "data_clas = TextClasDataBunch.from_csv(\n",
        "    path,\n",
        "    \"train.csv\",\n",
        "    test=\"test.csv\",\n",
        "    text_cols=\"review\",\n",
        "    label_cols=\"sentiment\",\n",
        "    vocab=data_lm.train_ds.vocab,\n",
        "    bs=32\n",
        ")"
      ],
      "execution_count": null,
      "outputs": [
        {
          "output_type": "display_data",
          "data": {
            "text/html": [
              ""
            ],
            "text/plain": [
              "<IPython.core.display.HTML object>"
            ]
          },
          "metadata": {
            "tags": []
          }
        },
        {
          "output_type": "display_data",
          "data": {
            "text/html": [
              ""
            ],
            "text/plain": [
              "<IPython.core.display.HTML object>"
            ]
          },
          "metadata": {
            "tags": []
          }
        },
        {
          "output_type": "display_data",
          "data": {
            "text/html": [
              ""
            ],
            "text/plain": [
              "<IPython.core.display.HTML object>"
            ]
          },
          "metadata": {
            "tags": []
          }
        }
      ]
    },
    {
      "cell_type": "code",
      "metadata": {
        "id": "WcrrDK7-aT0v",
        "colab_type": "code",
        "colab": {
          "base_uri": "https://localhost:8080/",
          "height": 35
        },
        "outputId": "6f54f673-a331-479a-b019-81aad0864593"
      },
      "source": [
        "# create language model learner with AWD_LSTM architecture and drop_mult of 0.5\n",
        "lm_learner = language_model_learner(data_lm, arch=AWD_LSTM, drop_mult=.5)"
      ],
      "execution_count": null,
      "outputs": [
        {
          "output_type": "stream",
          "text": [
            "Downloading https://s3.amazonaws.com/fast-ai-modelzoo/wt103-fwd.tgz\n"
          ],
          "name": "stdout"
        },
        {
          "output_type": "display_data",
          "data": {
            "text/html": [
              ""
            ],
            "text/plain": [
              "<IPython.core.display.HTML object>"
            ]
          },
          "metadata": {
            "tags": []
          }
        }
      ]
    },
    {
      "cell_type": "code",
      "metadata": {
        "id": "XnMFnhvZVM8k",
        "colab_type": "code",
        "colab": {
          "base_uri": "https://localhost:8080/",
          "height": 413
        },
        "outputId": "64c0f1c3-269c-42a9-e2c0-2aee994845de"
      },
      "source": [
        "# find a learing rate\n",
        "lm_learner.lr_find()\n",
        "lm_learner.recorder.plot(suggestion=True)"
      ],
      "execution_count": null,
      "outputs": [
        {
          "output_type": "display_data",
          "data": {
            "text/html": [
              "\n",
              "    <div>\n",
              "        <style>\n",
              "            /* Turns off some styling */\n",
              "            progress {\n",
              "                /* gets rid of default border in Firefox and Opera. */\n",
              "                border: none;\n",
              "                /* Needs to be in here for Safari polyfill so background images work as expected. */\n",
              "                background-size: auto;\n",
              "            }\n",
              "            .progress-bar-interrupted, .progress-bar-interrupted::-webkit-progress-bar {\n",
              "                background: #F44336;\n",
              "            }\n",
              "        </style>\n",
              "      <progress value='0' class='' max='1' style='width:300px; height:20px; vertical-align: middle;'></progress>\n",
              "      0.00% [0/1 00:00<00:00]\n",
              "    </div>\n",
              "    \n",
              "<table border=\"1\" class=\"dataframe\">\n",
              "  <thead>\n",
              "    <tr style=\"text-align: left;\">\n",
              "      <th>epoch</th>\n",
              "      <th>train_loss</th>\n",
              "      <th>valid_loss</th>\n",
              "      <th>accuracy</th>\n",
              "      <th>time</th>\n",
              "    </tr>\n",
              "  </thead>\n",
              "  <tbody>\n",
              "  </tbody>\n",
              "</table><p>\n",
              "\n",
              "    <div>\n",
              "        <style>\n",
              "            /* Turns off some styling */\n",
              "            progress {\n",
              "                /* gets rid of default border in Firefox and Opera. */\n",
              "                border: none;\n",
              "                /* Needs to be in here for Safari polyfill so background images work as expected. */\n",
              "                background-size: auto;\n",
              "            }\n",
              "            .progress-bar-interrupted, .progress-bar-interrupted::-webkit-progress-bar {\n",
              "                background: #F44336;\n",
              "            }\n",
              "        </style>\n",
              "      <progress value='99' class='' max='1332' style='width:300px; height:20px; vertical-align: middle;'></progress>\n",
              "      7.43% [99/1332 00:29<06:09 11.6520]\n",
              "    </div>\n",
              "    "
            ],
            "text/plain": [
              "<IPython.core.display.HTML object>"
            ]
          },
          "metadata": {
            "tags": []
          }
        },
        {
          "output_type": "stream",
          "text": [
            "LR Finder is complete, type {learner_name}.recorder.plot() to see the graph.\n",
            "Min numerical gradient: 6.92E-06\n",
            "Min loss divided by 10: 6.92E-03\n"
          ],
          "name": "stdout"
        },
        {
          "output_type": "display_data",
          "data": {
            "image/png": "[encoded data removed]",
            "text/plain": [
              "<Figure size 432x288 with 1 Axes>"
            ]
          },
          "metadata": {
            "tags": [],
            "needs_background": "light"
          }
        }
      ]
    },
    {
      "cell_type": "code",
      "metadata": {
        "id": "B9DZ8FALAw7r",
        "colab_type": "code",
        "colab": {
          "base_uri": "https://localhost:8080/",
          "height": 81
        },
        "outputId": "e9205862-ff12-49b4-80ba-f3e35a3f2c6e"
      },
      "source": [
        "# fit one cycle\n",
        "lr = lm_learner.recorder.min_grad_lr\n",
        "lm_learner.fit_one_cycle(1,lr)"
      ],
      "execution_count": null,
      "outputs": [
        {
          "output_type": "display_data",
          "data": {
            "text/html": [
              "<table border=\"1\" class=\"dataframe\">\n",
              "  <thead>\n",
              "    <tr style=\"text-align: left;\">\n",
              "      <th>epoch</th>\n",
              "      <th>train_loss</th>\n",
              "      <th>valid_loss</th>\n",
              "      <th>accuracy</th>\n",
              "      <th>time</th>\n",
              "    </tr>\n",
              "  </thead>\n",
              "  <tbody>\n",
              "    <tr>\n",
              "      <td>0</td>\n",
              "      <td>4.680662</td>\n",
              "      <td>4.458735</td>\n",
              "      <td>0.265092</td>\n",
              "      <td>08:00</td>\n",
              "    </tr>\n",
              "  </tbody>\n",
              "</table>"
            ],
            "text/plain": [
              "<IPython.core.display.HTML object>"
            ]
          },
          "metadata": {
            "tags": []
          }
        }
      ]
    },
    {
      "cell_type": "code",
      "metadata": {
        "id": "3ZIbQuXSKS5V",
        "colab_type": "code",
        "colab": {}
      },
      "source": [
        "# save the encoder\n",
        "lm_learner.save_encoder(\"model\")"
      ],
      "execution_count": null,
      "outputs": []
    },
    {
      "cell_type": "code",
      "metadata": {
        "id": "OFGrAyvQvXLH",
        "colab_type": "code",
        "colab": {
          "base_uri": "https://localhost:8080/",
          "height": 36
        },
        "outputId": "c5b373ce-b817-4344-e910-f227f30e5e0e"
      },
      "source": [
        "lm_learner.predict(\"this movie talks about Canadian\", n_words=20)"
      ],
      "execution_count": null,
      "outputs": [
        {
          "output_type": "execute_result",
          "data": {
            "application/vnd.google.colaboratory.intrinsic+json": {
              "type": "string"
            },
            "text/plain": [
              "'this movie talks about Canadian speech how it attend to the delight of local people . The prince banning the speech is his only'"
            ]
          },
          "metadata": {
            "tags": []
          },
          "execution_count": 15
        }
      ]
    },
    {
      "cell_type": "code",
      "metadata": {
        "id": "p-Jv0yyyJWmN",
        "colab_type": "code",
        "colab": {
          "base_uri": "https://localhost:8080/",
          "height": 1000
        },
        "outputId": "bc151881-627a-4833-fde1-bf4d0a60aa03"
      },
      "source": [
        "clas_learner = text_classifier_learner(data_clas, arch=AWD_LSTM, drop_mult=0.5)\n",
        "clas_learner.load_encoder(\"model\")"
      ],
      "execution_count": null,
      "outputs": [
        {
          "output_type": "execute_result",
          "data": {
            "text/plain": [
              "RNNLearner(data=TextClasDataBunch;\n",
              "\n",
              "Train: LabelList (19999 items)\n",
              "x: TextList\n",
              "xxbos xxmaj what an amazingly funny and original show . xxmaj the cast starting with the hysterical xxmaj julie xxunk xxmaj queen 's xxmaj got a xxmaj gun ) is just perfect . xxmaj add xxmaj amy xxunk xxmaj american xxmaj girl - xxmaj grandma xxmaj kim ) who plays a lesbian who is always arguing with her partner and business xxunk restaurant - xxup wok - xxup don\"t xxup run ) i have laughed harder during this show than any other i have ever xxunk xxmaj newhart - one of my all time favorite shows ) xxmaj if you like movies like xxmaj naked xxmaj gun and xxmaj xxunk you will love this series ! ! xxmaj one of the best moments of the show is xxmaj cindy xxmaj williams playing herself . xxmaj when she xxunk xxmaj tammy at the dry cleaners , xxmaj tammy finds a picture of xxmaj cindy xxmaj williams in her coat . xxmaj the picture is of xxmaj cindy xxmaj williams doing an unmentionable act with a bowling pin - upside down . xxmaj it is awesome to see an actress like xxmaj cindy xxmaj williams being able to play herself like this . xxmaj soap opera like with many surprise twists during its short run . i can only hope that this will someday be released on xxup dvd with special many bonus special features . xxmaj funniest series i have ever seen xxrep 4 !,xxbos xxmaj ben & xxmaj arthur xxup could have been a 10 . xxmaj sam xxmaj mraovich wrote , directed , stared , and produced this movie . xxmaj sam should have given his idea to a good writer , director , and left the acting to somebody who could act . this is a good example of one person controlling the whole production . there was nobody to tell him , \" xxmaj sam this is bad , really bad\" . xxmaj jamie xxmaj brett xxmaj gabel 's acting was the only good point , but he could have been so much better with a good director , and better actors to work with . xxmaj this movie is so bad i think xxmaj sam xxmaj mraovich should be tied to a chair and made to watch this movie ( twice ) . the acting and direction was so bad , this movie was turned into a comedy . you just had to laugh , and in the wrong places . a second good point xxrep 4 . this would make a great date movie . after the first two minutes you would quit watching the movie and pay more attention to your date !,xxbos xxmaj to sum this documentary up in a few words is next to impossible . xxmaj every fiber of your body tells you that this is not happening right from the opening montage of rapid - fire images , through to the last shot of the clean up at xxmaj ground xxmaj zero , but every frame is real . xxmaj the story was thought up by two xxmaj french brothers living in xxmaj new xxmaj york . xxmaj jules ( 28 ) and xxmaj gideon ( 31 ) xxmaj naudet ( pronounced \" xxmaj xxunk - day \" ) want to make a documentary on xxmaj new xxmaj york xxmaj city xxmaj firefighters , beginning with a \" newbie \" from the academy and follow him through the nine month xxunk period to full - fledged firefighter . xxmaj seeking the help of their close friend , actor xxmaj james xxmaj hanlon ( 36 ) , an actor and firefighter at xxmaj station 1 , xxmaj engine 7 , the xxmaj naudets sift through the \" xxmaj probies \" at the academy and find one , xxmaj tony xxmaj benetakos to focus the bulk of their documentary on . xxmaj tony becomes the butt of jokes and slowly learns the ins and outs of station life through the members of this close - knit family . xxmaj firefighters have a superstition about \" xxmaj probies . \" xxmaj it is that they are either \" xxmaj white xxmaj clouds \" or \" xxmaj black xxmaj clouds , \" meaning that with the latter , all kinds of fires follow the \" xxmaj probie . \" xxmaj the former means that very little fire activity follows , but one day , there will be the mother of all fires . xxmaj tony is a \" xxmaj white xxmaj cloud . \" xxmaj after some initial growing pains , xxmaj tony settles into the firehouse as if he were a seasoned vet . xxmaj then the unthinkable occurs xxrep 4 . xxmaj september 11 , 2001 begins with a clear blue sky and an early morning call to go and see about a supposed gas leak not far from xxmaj wall xxmaj street . xxmaj because xxmaj jules has had little camera experience , xxmaj gideon hands a camera to his younger brother and tells him to ride with the chief , xxup t. xxup k. xxmaj pfeiffer . xxmaj arriving at about xxunk , the firefighters begin to use their gas xxunk over a grate . xxmaj then the sudden roar of what seems to be a low flying airplane rips past the scene , and as xxmaj jules pans upwards , we see the first strike of the day . xxmaj american xxmaj airlines xxmaj flight 11 smashes into the face of the xxmaj north xxmaj tower of 1 xxmaj world xxmaj trade . xxmaj pfeiffer orders his men into the fire engine and they head for the xxmaj world xxmaj trade xxmaj center . xxmaj once there , xxmaj jules asks to accompany the xxmaj chief into the tower . xxmaj pfeiffer tells xxmaj naudet to stick close to him . xxmaj once inside , the full impact of the growing disaster begins to show on the faces of the men whose sole purpose is to save lives . xxmaj gideon xxmaj naudet decides to leave the firehouse and walk down to the impact area . xxmaj once there , he captures the impact of the second plane , xxmaj united xxmaj airlines xxmaj flight xxunk , with 2 xxmaj world xxmaj trade . xxmaj he knows xxmaj jules is with xxmaj chief xxmaj pfeiffer inside the towers . xxmaj watching and capturing the crowds ' reaction to the unimaginable , xxmaj gideon begins to capture on tape the growing fear in xxmaj lower xxmaj manhattan . xxmaj inside tower one , xxmaj jules records the last view the world , or loved ones will have of their sons , fathers , uncles , grandfathers , husbands , boyfriends , friends as one by one , each firefighter , carrying 60 lbs of equipment begin the long arduous climb up 80 stories to rescue the injured and trapped . xxmaj jules also catches the last glimpse xxmaj chief xxmaj pfeiffer will have of his brother , xxmaj kevin , as he leaves to do his selfless duty . xxmaj also caught on video is the xxunk sound of falling bodies hitting pavement from victims choosing to jump from the higher floors above the impact zones , sooner than face death at the hands of the flames and smoke . xxmaj but xxmaj jules is respectful , never once does he capture a sensationalistic moment ... the money shot . xxmaj his work is professional through his baptism of fire . xxmaj he also catches the sight of debris falling from tower two after it is hit by the second plane and the ordered way the firefighters evacuated civilians from the building . xxmaj then xxmaj jules is caught in the collapse of the south tower and the first official victim is taken : xxmaj father xxmaj michael xxmaj judd , the xxmaj chaplain for the fire department . xxmaj then as xxmaj jules and xxmaj chief xxmaj pfeiffer make their way from the fallout of the collapse of tower two , tower one begins its structural collapse . xxmaj what results is a breathtakingly , poignant view from inside xxmaj ground xxmaj zero as xxmaj jules and xxmaj gideon work separately to document that day . xxmaj not knowing if either is alive , each fearing the worst . xxmaj as each firefighter arrives at the firehouse , they greet each other with joyous hugs at having made it back . xxmaj and in one moment of overwhelming emotion , xxmaj jules and xxmaj gideon are reunited . xxmaj as xxmaj jules cries on his brother 's shoulder , xxmaj gideon embraces his younger brother as xxmaj hanlon makes the filmmakers the subject . xxmaj there is one fearful moment when xxmaj tony xxmaj benetakos , who left the station with a former chief , is believed to have been lost ... but returns to the fold , this \" xxmaj probie \" has proven himself . xxmaj shown with only three interruptions , 9 / 11 is a stunning achievement in documentary filmmaking . xxmaj it ranks up there with the xxmaj hindenburg footage in showing history as it unfolds . xxmaj the xxmaj naudets are to be commended for their deft handling of the subject . xxmaj in lesser hands , the tendency would be toward the sensational , but the xxmaj naudets temper their eye toward dignity and compassion . xxmaj narrated by xxmaj hanlon , we get the feel of his words as he takes the audience through the events of xxmaj september 11 . xxmaj robert xxmaj de xxmaj niro hosts the program in a sombre , restrained way . xxmaj he never seeks the camera for his own glory , rather he lays out the scenes you are about to see . i also commend xxup cbs for their bravery at airing this special . xxmaj chastised for their attempt at grabbing ratings , they temper their editing toward the emotions of the relatives of those who perished . xxmaj this is a must see for anyone who needs to be reminded of what true heroism is . xxmaj it is n't about dribbling a basketball , or selling an album of hate lyrics ... 9 / 11 is about humanity at its best . xxmaj heroism at its finest and the cost of freedom .,xxbos this was the best bonnie and clyde movie i have seen . it has more accurate accounts of what happened and while it does nt glorify their crimes it casts the pair in a normal light . i give this movie a 10 . it has great actors , realistic scenes and excellent writers .,xxbos xxmaj outstanding film of 1943 with xxmaj paul xxmaj lukas giving an xxmaj oscar xxunk performance as the head of his family bringing them back to xxmaj america from xxmaj europe as the xxmaj nazi menace deepened . xxmaj the usual terrific xxmaj bette xxmaj davis maintains her reputation here and for a change was not nominated for best actress for this or any film of xxunk treachery around them , xxmaj lukas successfully deals with the situation . xxmaj he knows he must return to xxmaj europe on a clandestine mission and return he does . xxmaj davis again pulls out all the stops with a xxmaj katharine xxmaj hepburn - like shedding of tears when they must part . xxmaj resolute , she knows that her older son , must follow him on his path to liberty . a wonderful film highlighting xxmaj american positive propaganda against a wicked foe .\n",
              "y: CategoryList\n",
              "positive,negative,positive,positive,positive\n",
              "Path: /content/drive/My Drive/DATA-475/imdb;\n",
              "\n",
              "Valid: LabelList (5001 items)\n",
              "x: TextList\n",
              "xxbos xxmaj another trashy xxmaj grade z quickie from the prolific xxmaj albert xxmaj pyun . xxmaj tim xxmaj thomerson´s 13 inch xxmaj clint xxmaj eastwood - like cop from outer space chases an ugly flying head ( ! ) to xxmaj earth and gets involved in a gang war in xxmaj south xxmaj bronx ! xxmaj mercifully short , but deadeningly dull , with the cheesiest effects since xxmaj attack of the xxunk xxmaj woman . xxmaj they should have fired the continuity guy , too : xxmaj note how xxmaj thomerson´s sunglasses disappears and reappears in every second shot . xxmaj laughably bad , but that´s why we watch these movies , xxunk it ? xxmaj sequel ´ xxmaj dollman xxmaj vs . xxmaj demonic xxmaj toys ´ is reportedly even worse , if that´s xxunk ( of xxrep 4 * ),xxbos i , like many other xxmaj bachchan fans , having been eagerly awaiting the remake of xxmaj sholay . xxmaj this movie was not it . xxmaj thank god they did n't let them use the name \" xxmaj sholay \" in the movie title . xxmaj ram xxmaj gopal 's remake is not worthy of the title . xxmaj the camera work , the locations , the costumes , the totally out - of - place dancing , the dialogue all combined to make the worst movie i have ever seen . xxmaj you wonder if the cast of actors agreed to make this movie because they needed money and xxmaj ram xxmaj gopal was paying a lot of money for the cast . xxmaj the only non - paid actor , the ant , was the only resemblance to the first movie . xxmaj xxunk 's role was totally ridiculous , did he need money to pay for the wedding to xxmaj ash ? xxmaj save your money , your mind and your time , do n't bother with this movie or the xxup dvd when that comes out .,xxbos i keep watching this movie over and over and over . i have to watch it at least once a week . i am from xxmaj africa and looking at that movie taught me some things that i did n't even know about xxmaj africa . xxmaj denzel 's movies are all full of lessons for people of walks of life . i wish he was my own brother . i have also seen and love your xxmaj masala xxmaj xxunk . xxmaj what a thrilling situation . xxmaj when xxmaj denzel was trying to hook his brother up on the job , reminds me of my teen ages when my brother was always mad with me about getting myself busy all the time . xxmaj my brother was always caring for my old father and he wants to see me the same way too . xxmaj by the way where did xxmaj denzel get that xxmaj african accent from in the xxmaj cry xxmaj freedom movie ? i have first seen that movie in xxmaj africa and i did n't know then that xxmaj denzel was xxmaj american till i moved down here .,xxbos i was absolutely mesmerised by this series from the moment xxmaj tom xxmaj long walked into shot - the whole ' bad boy ' thing , it was just addictive . xxmaj the story has you hooked , what will happen next - will xxmaj joey get the girl in the end , after doing 5 years in prison , and all that time thinking about his lost love , crossing paths with her again , finding he has a son ... xxmaj although he is a violent bad guy , you still want him to find happiness . a truly captivating two parter - please bring it out on video !,xxbos xxmaj this ambitious film suffers most from writer / director xxmaj paul xxmaj thomas xxmaj anderson 's delusions of grandeur . xxmaj highly derivative of much better material ( xxmaj altman 's \" xxmaj nashville , \" xxmaj lumet 's \" xxmaj network \" ) , this lumbering elephant takes far too long to get nowhere . a couple of misguided detours along the way ( an embarrassing musical interlude , a biblical plague ) do n't help matters . xxmaj neither does the uneven level of performances . xxmaj especially bad : xxmaj william xxup h. xxmaj macy , whose character and storyline could easily have been eliminated altogether ; xxmaj julianne xxmaj moore , for her unconvincing angst . xxmaj and how many times must we see xxmaj john xxup c. xxmaj reilly 's xxmaj sad xxmaj sack shtick ( \" xxmaj chicago \" and \" xxmaj the xxmaj hours \" will suffice ) ? xxmaj tom xxmaj cruise comes off well by comparison  his misogynist , foul - mouthed xxmaj holy xxmaj roller was rather amusing . xxmaj speaking of foul mouths , the script was so loaded with \" f \" bombs , they lost their impact in no time . xxmaj do n't even talk about that awful soundtrack , full of insipid and annoying vocals by xxmaj aimee xxmaj mann . xxmaj her extended rendition of \" xxmaj one , \" a maudlin number to begin with , drove me to distraction at the start of the film . i should have heeded the handwriting on the wall and saved myself three more hours , by which time i 'd been pushed to the brink of hell . xxmaj one redeeming feature , which i have n't seen mentioned in other reviews , is the best performance in the bunch , by unknown xxmaj xxunk xxmaj walters in the role of xxmaj claudia , the damaged coke fiend bent on self - destruction . xxmaj her credibility exceeded all others by far . xxmaj this film took itself way too seriously and just did n't know when to end .\n",
              "y: CategoryList\n",
              "negative,negative,positive,positive,negative\n",
              "Path: /content/drive/My Drive/DATA-475/imdb;\n",
              "\n",
              "Test: LabelList (25000 items)\n",
              "x: TextList\n",
              "xxbos i went and saw this movie last night after being coaxed to by a few friends of mine . i 'll admit that i was reluctant to see it because from what i knew of xxmaj ashton xxmaj kutcher he was only able to do comedy . i was wrong . xxmaj kutcher played the character of xxmaj jake xxmaj fischer very well , and xxmaj kevin xxmaj costner played xxmaj ben xxmaj randall with such professionalism . xxmaj the sign of a good movie is that it can toy with our emotions . xxmaj this one did exactly that . xxmaj the entire theater ( which was sold out ) was overcome by laughter during the first half of the movie , and were moved to tears during the second half . xxmaj while exiting the theater i not only saw many women in tears , but many full grown men as well , trying desperately not to let anyone see them crying . xxmaj this movie was great , and i suggest that you go see it before you judge .,xxbos xxmaj actor turned director xxmaj bill xxmaj paxton follows up his promising debut , the xxmaj gothic - horror \" xxmaj frailty \" , with this family friendly sports drama about the 1913 xxup u.s. xxmaj open where a young xxmaj american xxunk rises from his humble background to play against his xxmaj xxunk idol in what was dubbed as \" xxmaj the xxmaj greatest xxmaj game xxmaj ever xxmaj played . \" i 'm no fan of golf , and these scrappy underdog sports flicks are a dime a dozen ( most recently done to grand effect with \" xxmaj miracle \" and \" xxmaj cinderella xxmaj man \" ) , but some how this film was enthralling all the same . xxmaj the film starts with some creative opening credits ( imagine a xxmaj disneyfied version of the animated opening credits of xxup hbo 's \" xxmaj carnivale \" and \" xxmaj rome \" ) , but lumbers along slowly for its first by - the - numbers hour . xxmaj once the action moves to the xxup u.s. xxmaj open things pick up very well . xxmaj paxton does a nice job and shows a knack for effective directorial flourishes ( i loved the rain - soaked montage of the action on day two of the open ) that propel the plot further or add some unexpected psychological depth to the proceedings . xxmaj there 's some compelling character development when the xxmaj british xxmaj harry xxmaj xxunk is haunted by images of the aristocrats in black suits and top hats who destroyed his family cottage as a child to make way for a golf course . xxmaj he also does a good job of visually depicting what goes on in the players ' heads under pressure . xxmaj golf , a painfully boring sport , is brought vividly alive here . xxmaj credit should also be given the set designers and costume department for creating an engaging period - piece atmosphere of xxmaj london and xxmaj boston at the beginning of the twentieth century . xxmaj you know how this is going to end not only because it 's based on a true story but also because films in this genre follow the same template over and over , but xxmaj paxton puts on a better than average show and perhaps indicates more talent behind the camera than he ever had in front of it . xxmaj despite the formulaic nature , this is a nice and easy film to root for that deserves to find an audience .,xxbos xxmaj as a recreational golfer with some knowledge of the sport 's history , i was pleased with xxmaj disney 's sensitivity to the issues of class in golf in the early twentieth century . xxmaj the movie depicted well the psychological battles that xxmaj harry xxmaj xxunk fought within himself , from his childhood trauma of being evicted to his own inability to break that glass ceiling that prevents him from being accepted as an equal in xxmaj english golf society . xxmaj likewise , the young xxmaj xxunk goes through his own class struggles , being a mere caddie in the eyes of the upper crust xxmaj americans who scoff at his attempts to rise above his standing . xxmaj what i loved best , however , is how this theme of class is manifested in the characters of xxmaj xxunk 's parents . xxmaj his father is a working - class drone who sees the value of hard work but is intimidated by the upper class ; his mother , however , recognizes her son 's talent and desire and encourages him to pursue his dream of competing against those who think he is inferior . xxmaj finally , the golf scenes are well photographed . xxmaj although the course used in the movie was not the actual site of the historical tournament , the little liberties taken by xxmaj disney do not detract from the beauty of the film . xxmaj there 's one little xxmaj disney moment at the pool table ; otherwise , the viewer does not really think xxmaj disney . xxmaj the ending , as in \" xxmaj miracle , \" is not some xxmaj disney creation , but one that only human history could have written .,xxbos i saw this film in a sneak preview , and it is delightful . xxmaj the cinematography is unusually creative , the acting is good , and the story is fabulous . xxmaj if this movie does not do well , it wo n't be because it does n't deserve to . xxmaj before this film , i did n't realize how charming xxmaj shia xxmaj xxunk could be . xxmaj he does a marvelous , self - contained , job as the lead . xxmaj there 's something incredibly sweet about him , and it makes the movie even better . xxmaj the other actors do a good job as well , and the film contains moments of really high suspense , more than one might expect from a movie about golf . xxmaj sports movies are a dime a dozen , but this one stands out . xxmaj this is one i 'd recommend to anyone .,xxbos xxmaj bill xxmaj paxton has taken the true story of the 1913 xxup us golf open and made a film that is about much more than an extra - ordinary game of golf . xxmaj the film also deals directly with the class tensions of the early twentieth century and touches upon the profound anti - xxmaj catholic prejudices of both the xxmaj british and xxmaj american establishments . xxmaj but at heart the film is about that perennial favourite of triumph against the odds . xxmaj the acting is exemplary throughout . xxmaj stephen xxmaj xxunk is excellent as usual , but the revelation of the movie is xxmaj shia xxunk who delivers a disciplined , dignified and highly sympathetic performance as a working class xxmaj franco - xxmaj irish kid fighting his way through the prejudices of the xxmaj new xxmaj england xxup wasp establishment . xxmaj for those who are only familiar with his slap - stick performances in \" xxmaj even xxmaj stevens \" this demonstration of his maturity is a delightful surprise . xxmaj and xxmaj josh xxmaj flitter as the ten year old xxunk threatens to steal every scene in which he appears . a old fashioned movie in the best sense of the word : fine acting , clear directing and a great story that grips to the end - the final scene an affectionate nod to xxmaj casablanca is just one of the many pleasures that fill a great movie .\n",
              "y: EmptyLabelList\n",
              ",,,,\n",
              "Path: /content/drive/My Drive/DATA-475/imdb, model=SequentialRNN(\n",
              "  (0): MultiBatchEncoder(\n",
              "    (module): AWD_LSTM(\n",
              "      (encoder): Embedding(44168, 400, padding_idx=1)\n",
              "      (encoder_dp): EmbeddingDropout(\n",
              "        (emb): Embedding(44168, 400, padding_idx=1)\n",
              "      )\n",
              "      (rnns): ModuleList(\n",
              "        (0): WeightDropout(\n",
              "          (module): LSTM(400, 1152, batch_first=True)\n",
              "        )\n",
              "        (1): WeightDropout(\n",
              "          (module): LSTM(1152, 1152, batch_first=True)\n",
              "        )\n",
              "        (2): WeightDropout(\n",
              "          (module): LSTM(1152, 400, batch_first=True)\n",
              "        )\n",
              "      )\n",
              "      (input_dp): RNNDropout()\n",
              "      (hidden_dps): ModuleList(\n",
              "        (0): RNNDropout()\n",
              "        (1): RNNDropout()\n",
              "        (2): RNNDropout()\n",
              "      )\n",
              "    )\n",
              "  )\n",
              "  (1): PoolingLinearClassifier(\n",
              "    (layers): Sequential(\n",
              "      (0): BatchNorm1d(1200, eps=1e-05, momentum=0.1, affine=True, track_running_stats=True)\n",
              "      (1): Dropout(p=0.2, inplace=False)\n",
              "      (2): Linear(in_features=1200, out_features=50, bias=True)\n",
              "      (3): ReLU(inplace=True)\n",
              "      (4): BatchNorm1d(50, eps=1e-05, momentum=0.1, affine=True, track_running_stats=True)\n",
              "      (5): Dropout(p=0.1, inplace=False)\n",
              "      (6): Linear(in_features=50, out_features=2, bias=True)\n",
              "    )\n",
              "  )\n",
              "), opt_func=functools.partial(<class 'torch.optim.adam.Adam'>, betas=(0.9, 0.99)), loss_func=FlattenedLoss of CrossEntropyLoss(), metrics=[<function accuracy at 0x7f81c54ebb70>], true_wd=True, bn_wd=True, wd=0.01, train_bn=True, path=PosixPath('/content/drive/My Drive/DATA-475/imdb'), model_dir='models', callback_fns=[functools.partial(<class 'fastai.basic_train.Recorder'>, add_time=True, silent=False)], callbacks=[RNNTrainer\n",
              "learn: RNNLearner(data=TextClasDataBunch;\n",
              "\n",
              "Train: LabelList (19999 items)\n",
              "x: TextList\n",
              "xxbos xxmaj what an amazingly funny and original show . xxmaj the cast starting with the hysterical xxmaj julie xxunk xxmaj queen 's xxmaj got a xxmaj gun ) is just perfect . xxmaj add xxmaj amy xxunk xxmaj american xxmaj girl - xxmaj grandma xxmaj kim ) who plays a lesbian who is always arguing with her partner and business xxunk restaurant - xxup wok - xxup don\"t xxup run ) i have laughed harder during this show than any other i have ever xxunk xxmaj newhart - one of my all time favorite shows ) xxmaj if you like movies like xxmaj naked xxmaj gun and xxmaj xxunk you will love this series ! ! xxmaj one of the best moments of the show is xxmaj cindy xxmaj williams playing herself . xxmaj when she xxunk xxmaj tammy at the dry cleaners , xxmaj tammy finds a picture of xxmaj cindy xxmaj williams in her coat . xxmaj the picture is of xxmaj cindy xxmaj williams doing an unmentionable act with a bowling pin - upside down . xxmaj it is awesome to see an actress like xxmaj cindy xxmaj williams being able to play herself like this . xxmaj soap opera like with many surprise twists during its short run . i can only hope that this will someday be released on xxup dvd with special many bonus special features . xxmaj funniest series i have ever seen xxrep 4 !,xxbos xxmaj ben & xxmaj arthur xxup could have been a 10 . xxmaj sam xxmaj mraovich wrote , directed , stared , and produced this movie . xxmaj sam should have given his idea to a good writer , director , and left the acting to somebody who could act . this is a good example of one person controlling the whole production . there was nobody to tell him , \" xxmaj sam this is bad , really bad\" . xxmaj jamie xxmaj brett xxmaj gabel 's acting was the only good point , but he could have been so much better with a good director , and better actors to work with . xxmaj this movie is so bad i think xxmaj sam xxmaj mraovich should be tied to a chair and made to watch this movie ( twice ) . the acting and direction was so bad , this movie was turned into a comedy . you just had to laugh , and in the wrong places . a second good point xxrep 4 . this would make a great date movie . after the first two minutes you would quit watching the movie and pay more attention to your date !,xxbos xxmaj to sum this documentary up in a few words is next to impossible . xxmaj every fiber of your body tells you that this is not happening right from the opening montage of rapid - fire images , through to the last shot of the clean up at xxmaj ground xxmaj zero , but every frame is real . xxmaj the story was thought up by two xxmaj french brothers living in xxmaj new xxmaj york . xxmaj jules ( 28 ) and xxmaj gideon ( 31 ) xxmaj naudet ( pronounced \" xxmaj xxunk - day \" ) want to make a documentary on xxmaj new xxmaj york xxmaj city xxmaj firefighters , beginning with a \" newbie \" from the academy and follow him through the nine month xxunk period to full - fledged firefighter . xxmaj seeking the help of their close friend , actor xxmaj james xxmaj hanlon ( 36 ) , an actor and firefighter at xxmaj station 1 , xxmaj engine 7 , the xxmaj naudets sift through the \" xxmaj probies \" at the academy and find one , xxmaj tony xxmaj benetakos to focus the bulk of their documentary on . xxmaj tony becomes the butt of jokes and slowly learns the ins and outs of station life through the members of this close - knit family . xxmaj firefighters have a superstition about \" xxmaj probies . \" xxmaj it is that they are either \" xxmaj white xxmaj clouds \" or \" xxmaj black xxmaj clouds , \" meaning that with the latter , all kinds of fires follow the \" xxmaj probie . \" xxmaj the former means that very little fire activity follows , but one day , there will be the mother of all fires . xxmaj tony is a \" xxmaj white xxmaj cloud . \" xxmaj after some initial growing pains , xxmaj tony settles into the firehouse as if he were a seasoned vet . xxmaj then the unthinkable occurs xxrep 4 . xxmaj september 11 , 2001 begins with a clear blue sky and an early morning call to go and see about a supposed gas leak not far from xxmaj wall xxmaj street . xxmaj because xxmaj jules has had little camera experience , xxmaj gideon hands a camera to his younger brother and tells him to ride with the chief , xxup t. xxup k. xxmaj pfeiffer . xxmaj arriving at about xxunk , the firefighters begin to use their gas xxunk over a grate . xxmaj then the sudden roar of what seems to be a low flying airplane rips past the scene , and as xxmaj jules pans upwards , we see the first strike of the day . xxmaj american xxmaj airlines xxmaj flight 11 smashes into the face of the xxmaj north xxmaj tower of 1 xxmaj world xxmaj trade . xxmaj pfeiffer orders his men into the fire engine and they head for the xxmaj world xxmaj trade xxmaj center . xxmaj once there , xxmaj jules asks to accompany the xxmaj chief into the tower . xxmaj pfeiffer tells xxmaj naudet to stick close to him . xxmaj once inside , the full impact of the growing disaster begins to show on the faces of the men whose sole purpose is to save lives . xxmaj gideon xxmaj naudet decides to leave the firehouse and walk down to the impact area . xxmaj once there , he captures the impact of the second plane , xxmaj united xxmaj airlines xxmaj flight xxunk , with 2 xxmaj world xxmaj trade . xxmaj he knows xxmaj jules is with xxmaj chief xxmaj pfeiffer inside the towers . xxmaj watching and capturing the crowds ' reaction to the unimaginable , xxmaj gideon begins to capture on tape the growing fear in xxmaj lower xxmaj manhattan . xxmaj inside tower one , xxmaj jules records the last view the world , or loved ones will have of their sons , fathers , uncles , grandfathers , husbands , boyfriends , friends as one by one , each firefighter , carrying 60 lbs of equipment begin the long arduous climb up 80 stories to rescue the injured and trapped . xxmaj jules also catches the last glimpse xxmaj chief xxmaj pfeiffer will have of his brother , xxmaj kevin , as he leaves to do his selfless duty . xxmaj also caught on video is the xxunk sound of falling bodies hitting pavement from victims choosing to jump from the higher floors above the impact zones , sooner than face death at the hands of the flames and smoke . xxmaj but xxmaj jules is respectful , never once does he capture a sensationalistic moment ... the money shot . xxmaj his work is professional through his baptism of fire . xxmaj he also catches the sight of debris falling from tower two after it is hit by the second plane and the ordered way the firefighters evacuated civilians from the building . xxmaj then xxmaj jules is caught in the collapse of the south tower and the first official victim is taken : xxmaj father xxmaj michael xxmaj judd , the xxmaj chaplain for the fire department . xxmaj then as xxmaj jules and xxmaj chief xxmaj pfeiffer make their way from the fallout of the collapse of tower two , tower one begins its structural collapse . xxmaj what results is a breathtakingly , poignant view from inside xxmaj ground xxmaj zero as xxmaj jules and xxmaj gideon work separately to document that day . xxmaj not knowing if either is alive , each fearing the worst . xxmaj as each firefighter arrives at the firehouse , they greet each other with joyous hugs at having made it back . xxmaj and in one moment of overwhelming emotion , xxmaj jules and xxmaj gideon are reunited . xxmaj as xxmaj jules cries on his brother 's shoulder , xxmaj gideon embraces his younger brother as xxmaj hanlon makes the filmmakers the subject . xxmaj there is one fearful moment when xxmaj tony xxmaj benetakos , who left the station with a former chief , is believed to have been lost ... but returns to the fold , this \" xxmaj probie \" has proven himself . xxmaj shown with only three interruptions , 9 / 11 is a stunning achievement in documentary filmmaking . xxmaj it ranks up there with the xxmaj hindenburg footage in showing history as it unfolds . xxmaj the xxmaj naudets are to be commended for their deft handling of the subject . xxmaj in lesser hands , the tendency would be toward the sensational , but the xxmaj naudets temper their eye toward dignity and compassion . xxmaj narrated by xxmaj hanlon , we get the feel of his words as he takes the audience through the events of xxmaj september 11 . xxmaj robert xxmaj de xxmaj niro hosts the program in a sombre , restrained way . xxmaj he never seeks the camera for his own glory , rather he lays out the scenes you are about to see . i also commend xxup cbs for their bravery at airing this special . xxmaj chastised for their attempt at grabbing ratings , they temper their editing toward the emotions of the relatives of those who perished . xxmaj this is a must see for anyone who needs to be reminded of what true heroism is . xxmaj it is n't about dribbling a basketball , or selling an album of hate lyrics ... 9 / 11 is about humanity at its best . xxmaj heroism at its finest and the cost of freedom .,xxbos this was the best bonnie and clyde movie i have seen . it has more accurate accounts of what happened and while it does nt glorify their crimes it casts the pair in a normal light . i give this movie a 10 . it has great actors , realistic scenes and excellent writers .,xxbos xxmaj outstanding film of 1943 with xxmaj paul xxmaj lukas giving an xxmaj oscar xxunk performance as the head of his family bringing them back to xxmaj america from xxmaj europe as the xxmaj nazi menace deepened . xxmaj the usual terrific xxmaj bette xxmaj davis maintains her reputation here and for a change was not nominated for best actress for this or any film of xxunk treachery around them , xxmaj lukas successfully deals with the situation . xxmaj he knows he must return to xxmaj europe on a clandestine mission and return he does . xxmaj davis again pulls out all the stops with a xxmaj katharine xxmaj hepburn - like shedding of tears when they must part . xxmaj resolute , she knows that her older son , must follow him on his path to liberty . a wonderful film highlighting xxmaj american positive propaganda against a wicked foe .\n",
              "y: CategoryList\n",
              "positive,negative,positive,positive,positive\n",
              "Path: /content/drive/My Drive/DATA-475/imdb;\n",
              "\n",
              "Valid: LabelList (5001 items)\n",
              "x: TextList\n",
              "xxbos xxmaj another trashy xxmaj grade z quickie from the prolific xxmaj albert xxmaj pyun . xxmaj tim xxmaj thomerson´s 13 inch xxmaj clint xxmaj eastwood - like cop from outer space chases an ugly flying head ( ! ) to xxmaj earth and gets involved in a gang war in xxmaj south xxmaj bronx ! xxmaj mercifully short , but deadeningly dull , with the cheesiest effects since xxmaj attack of the xxunk xxmaj woman . xxmaj they should have fired the continuity guy , too : xxmaj note how xxmaj thomerson´s sunglasses disappears and reappears in every second shot . xxmaj laughably bad , but that´s why we watch these movies , xxunk it ? xxmaj sequel ´ xxmaj dollman xxmaj vs . xxmaj demonic xxmaj toys ´ is reportedly even worse , if that´s xxunk ( of xxrep 4 * ),xxbos i , like many other xxmaj bachchan fans , having been eagerly awaiting the remake of xxmaj sholay . xxmaj this movie was not it . xxmaj thank god they did n't let them use the name \" xxmaj sholay \" in the movie title . xxmaj ram xxmaj gopal 's remake is not worthy of the title . xxmaj the camera work , the locations , the costumes , the totally out - of - place dancing , the dialogue all combined to make the worst movie i have ever seen . xxmaj you wonder if the cast of actors agreed to make this movie because they needed money and xxmaj ram xxmaj gopal was paying a lot of money for the cast . xxmaj the only non - paid actor , the ant , was the only resemblance to the first movie . xxmaj xxunk 's role was totally ridiculous , did he need money to pay for the wedding to xxmaj ash ? xxmaj save your money , your mind and your time , do n't bother with this movie or the xxup dvd when that comes out .,xxbos i keep watching this movie over and over and over . i have to watch it at least once a week . i am from xxmaj africa and looking at that movie taught me some things that i did n't even know about xxmaj africa . xxmaj denzel 's movies are all full of lessons for people of walks of life . i wish he was my own brother . i have also seen and love your xxmaj masala xxmaj xxunk . xxmaj what a thrilling situation . xxmaj when xxmaj denzel was trying to hook his brother up on the job , reminds me of my teen ages when my brother was always mad with me about getting myself busy all the time . xxmaj my brother was always caring for my old father and he wants to see me the same way too . xxmaj by the way where did xxmaj denzel get that xxmaj african accent from in the xxmaj cry xxmaj freedom movie ? i have first seen that movie in xxmaj africa and i did n't know then that xxmaj denzel was xxmaj american till i moved down here .,xxbos i was absolutely mesmerised by this series from the moment xxmaj tom xxmaj long walked into shot - the whole ' bad boy ' thing , it was just addictive . xxmaj the story has you hooked , what will happen next - will xxmaj joey get the girl in the end , after doing 5 years in prison , and all that time thinking about his lost love , crossing paths with her again , finding he has a son ... xxmaj although he is a violent bad guy , you still want him to find happiness . a truly captivating two parter - please bring it out on video !,xxbos xxmaj this ambitious film suffers most from writer / director xxmaj paul xxmaj thomas xxmaj anderson 's delusions of grandeur . xxmaj highly derivative of much better material ( xxmaj altman 's \" xxmaj nashville , \" xxmaj lumet 's \" xxmaj network \" ) , this lumbering elephant takes far too long to get nowhere . a couple of misguided detours along the way ( an embarrassing musical interlude , a biblical plague ) do n't help matters . xxmaj neither does the uneven level of performances . xxmaj especially bad : xxmaj william xxup h. xxmaj macy , whose character and storyline could easily have been eliminated altogether ; xxmaj julianne xxmaj moore , for her unconvincing angst . xxmaj and how many times must we see xxmaj john xxup c. xxmaj reilly 's xxmaj sad xxmaj sack shtick ( \" xxmaj chicago \" and \" xxmaj the xxmaj hours \" will suffice ) ? xxmaj tom xxmaj cruise comes off well by comparison  his misogynist , foul - mouthed xxmaj holy xxmaj roller was rather amusing . xxmaj speaking of foul mouths , the script was so loaded with \" f \" bombs , they lost their impact in no time . xxmaj do n't even talk about that awful soundtrack , full of insipid and annoying vocals by xxmaj aimee xxmaj mann . xxmaj her extended rendition of \" xxmaj one , \" a maudlin number to begin with , drove me to distraction at the start of the film . i should have heeded the handwriting on the wall and saved myself three more hours , by which time i 'd been pushed to the brink of hell . xxmaj one redeeming feature , which i have n't seen mentioned in other reviews , is the best performance in the bunch , by unknown xxmaj xxunk xxmaj walters in the role of xxmaj claudia , the damaged coke fiend bent on self - destruction . xxmaj her credibility exceeded all others by far . xxmaj this film took itself way too seriously and just did n't know when to end .\n",
              "y: CategoryList\n",
              "negative,negative,positive,positive,negative\n",
              "Path: /content/drive/My Drive/DATA-475/imdb;\n",
              "\n",
              "Test: LabelList (25000 items)\n",
              "x: TextList\n",
              "xxbos i went and saw this movie last night after being coaxed to by a few friends of mine . i 'll admit that i was reluctant to see it because from what i knew of xxmaj ashton xxmaj kutcher he was only able to do comedy . i was wrong . xxmaj kutcher played the character of xxmaj jake xxmaj fischer very well , and xxmaj kevin xxmaj costner played xxmaj ben xxmaj randall with such professionalism . xxmaj the sign of a good movie is that it can toy with our emotions . xxmaj this one did exactly that . xxmaj the entire theater ( which was sold out ) was overcome by laughter during the first half of the movie , and were moved to tears during the second half . xxmaj while exiting the theater i not only saw many women in tears , but many full grown men as well , trying desperately not to let anyone see them crying . xxmaj this movie was great , and i suggest that you go see it before you judge .,xxbos xxmaj actor turned director xxmaj bill xxmaj paxton follows up his promising debut , the xxmaj gothic - horror \" xxmaj frailty \" , with this family friendly sports drama about the 1913 xxup u.s. xxmaj open where a young xxmaj american xxunk rises from his humble background to play against his xxmaj xxunk idol in what was dubbed as \" xxmaj the xxmaj greatest xxmaj game xxmaj ever xxmaj played . \" i 'm no fan of golf , and these scrappy underdog sports flicks are a dime a dozen ( most recently done to grand effect with \" xxmaj miracle \" and \" xxmaj cinderella xxmaj man \" ) , but some how this film was enthralling all the same . xxmaj the film starts with some creative opening credits ( imagine a xxmaj disneyfied version of the animated opening credits of xxup hbo 's \" xxmaj carnivale \" and \" xxmaj rome \" ) , but lumbers along slowly for its first by - the - numbers hour . xxmaj once the action moves to the xxup u.s. xxmaj open things pick up very well . xxmaj paxton does a nice job and shows a knack for effective directorial flourishes ( i loved the rain - soaked montage of the action on day two of the open ) that propel the plot further or add some unexpected psychological depth to the proceedings . xxmaj there 's some compelling character development when the xxmaj british xxmaj harry xxmaj xxunk is haunted by images of the aristocrats in black suits and top hats who destroyed his family cottage as a child to make way for a golf course . xxmaj he also does a good job of visually depicting what goes on in the players ' heads under pressure . xxmaj golf , a painfully boring sport , is brought vividly alive here . xxmaj credit should also be given the set designers and costume department for creating an engaging period - piece atmosphere of xxmaj london and xxmaj boston at the beginning of the twentieth century . xxmaj you know how this is going to end not only because it 's based on a true story but also because films in this genre follow the same template over and over , but xxmaj paxton puts on a better than average show and perhaps indicates more talent behind the camera than he ever had in front of it . xxmaj despite the formulaic nature , this is a nice and easy film to root for that deserves to find an audience .,xxbos xxmaj as a recreational golfer with some knowledge of the sport 's history , i was pleased with xxmaj disney 's sensitivity to the issues of class in golf in the early twentieth century . xxmaj the movie depicted well the psychological battles that xxmaj harry xxmaj xxunk fought within himself , from his childhood trauma of being evicted to his own inability to break that glass ceiling that prevents him from being accepted as an equal in xxmaj english golf society . xxmaj likewise , the young xxmaj xxunk goes through his own class struggles , being a mere caddie in the eyes of the upper crust xxmaj americans who scoff at his attempts to rise above his standing . xxmaj what i loved best , however , is how this theme of class is manifested in the characters of xxmaj xxunk 's parents . xxmaj his father is a working - class drone who sees the value of hard work but is intimidated by the upper class ; his mother , however , recognizes her son 's talent and desire and encourages him to pursue his dream of competing against those who think he is inferior . xxmaj finally , the golf scenes are well photographed . xxmaj although the course used in the movie was not the actual site of the historical tournament , the little liberties taken by xxmaj disney do not detract from the beauty of the film . xxmaj there 's one little xxmaj disney moment at the pool table ; otherwise , the viewer does not really think xxmaj disney . xxmaj the ending , as in \" xxmaj miracle , \" is not some xxmaj disney creation , but one that only human history could have written .,xxbos i saw this film in a sneak preview , and it is delightful . xxmaj the cinematography is unusually creative , the acting is good , and the story is fabulous . xxmaj if this movie does not do well , it wo n't be because it does n't deserve to . xxmaj before this film , i did n't realize how charming xxmaj shia xxmaj xxunk could be . xxmaj he does a marvelous , self - contained , job as the lead . xxmaj there 's something incredibly sweet about him , and it makes the movie even better . xxmaj the other actors do a good job as well , and the film contains moments of really high suspense , more than one might expect from a movie about golf . xxmaj sports movies are a dime a dozen , but this one stands out . xxmaj this is one i 'd recommend to anyone .,xxbos xxmaj bill xxmaj paxton has taken the true story of the 1913 xxup us golf open and made a film that is about much more than an extra - ordinary game of golf . xxmaj the film also deals directly with the class tensions of the early twentieth century and touches upon the profound anti - xxmaj catholic prejudices of both the xxmaj british and xxmaj american establishments . xxmaj but at heart the film is about that perennial favourite of triumph against the odds . xxmaj the acting is exemplary throughout . xxmaj stephen xxmaj xxunk is excellent as usual , but the revelation of the movie is xxmaj shia xxunk who delivers a disciplined , dignified and highly sympathetic performance as a working class xxmaj franco - xxmaj irish kid fighting his way through the prejudices of the xxmaj new xxmaj england xxup wasp establishment . xxmaj for those who are only familiar with his slap - stick performances in \" xxmaj even xxmaj stevens \" this demonstration of his maturity is a delightful surprise . xxmaj and xxmaj josh xxmaj flitter as the ten year old xxunk threatens to steal every scene in which he appears . a old fashioned movie in the best sense of the word : fine acting , clear directing and a great story that grips to the end - the final scene an affectionate nod to xxmaj casablanca is just one of the many pleasures that fill a great movie .\n",
              "y: EmptyLabelList\n",
              ",,,,\n",
              "Path: /content/drive/My Drive/DATA-475/imdb, model=SequentialRNN(\n",
              "  (0): MultiBatchEncoder(\n",
              "    (module): AWD_LSTM(\n",
              "      (encoder): Embedding(44168, 400, padding_idx=1)\n",
              "      (encoder_dp): EmbeddingDropout(\n",
              "        (emb): Embedding(44168, 400, padding_idx=1)\n",
              "      )\n",
              "      (rnns): ModuleList(\n",
              "        (0): WeightDropout(\n",
              "          (module): LSTM(400, 1152, batch_first=True)\n",
              "        )\n",
              "        (1): WeightDropout(\n",
              "          (module): LSTM(1152, 1152, batch_first=True)\n",
              "        )\n",
              "        (2): WeightDropout(\n",
              "          (module): LSTM(1152, 400, batch_first=True)\n",
              "        )\n",
              "      )\n",
              "      (input_dp): RNNDropout()\n",
              "      (hidden_dps): ModuleList(\n",
              "        (0): RNNDropout()\n",
              "        (1): RNNDropout()\n",
              "        (2): RNNDropout()\n",
              "      )\n",
              "    )\n",
              "  )\n",
              "  (1): PoolingLinearClassifier(\n",
              "    (layers): Sequential(\n",
              "      (0): BatchNorm1d(1200, eps=1e-05, momentum=0.1, affine=True, track_running_stats=True)\n",
              "      (1): Dropout(p=0.2, inplace=False)\n",
              "      (2): Linear(in_features=1200, out_features=50, bias=True)\n",
              "      (3): ReLU(inplace=True)\n",
              "      (4): BatchNorm1d(50, eps=1e-05, momentum=0.1, affine=True, track_running_stats=True)\n",
              "      (5): Dropout(p=0.1, inplace=False)\n",
              "      (6): Linear(in_features=50, out_features=2, bias=True)\n",
              "    )\n",
              "  )\n",
              "), opt_func=functools.partial(<class 'torch.optim.adam.Adam'>, betas=(0.9, 0.99)), loss_func=FlattenedLoss of CrossEntropyLoss(), metrics=[<function accuracy at 0x7f81c54ebb70>], true_wd=True, bn_wd=True, wd=0.01, train_bn=True, path=PosixPath('/content/drive/My Drive/DATA-475/imdb'), model_dir='models', callback_fns=[functools.partial(<class 'fastai.basic_train.Recorder'>, add_time=True, silent=False)], callbacks=[...], layer_groups=[Sequential(\n",
              "  (0): Embedding(44168, 400, padding_idx=1)\n",
              "  (1): EmbeddingDropout(\n",
              "    (emb): Embedding(44168, 400, padding_idx=1)\n",
              "  )\n",
              "), Sequential(\n",
              "  (0): WeightDropout(\n",
              "    (module): LSTM(400, 1152, batch_first=True)\n",
              "  )\n",
              "  (1): RNNDropout()\n",
              "), Sequential(\n",
              "  (0): WeightDropout(\n",
              "    (module): LSTM(1152, 1152, batch_first=True)\n",
              "  )\n",
              "  (1): RNNDropout()\n",
              "), Sequential(\n",
              "  (0): WeightDropout(\n",
              "    (module): LSTM(1152, 400, batch_first=True)\n",
              "  )\n",
              "  (1): RNNDropout()\n",
              "), Sequential(\n",
              "  (0): PoolingLinearClassifier(\n",
              "    (layers): Sequential(\n",
              "      (0): BatchNorm1d(1200, eps=1e-05, momentum=0.1, affine=True, track_running_stats=True)\n",
              "      (1): Dropout(p=0.2, inplace=False)\n",
              "      (2): Linear(in_features=1200, out_features=50, bias=True)\n",
              "      (3): ReLU(inplace=True)\n",
              "      (4): BatchNorm1d(50, eps=1e-05, momentum=0.1, affine=True, track_running_stats=True)\n",
              "      (5): Dropout(p=0.1, inplace=False)\n",
              "      (6): Linear(in_features=50, out_features=2, bias=True)\n",
              "    )\n",
              "  )\n",
              ")], add_time=True, silent=False)\n",
              "alpha: 2.0\n",
              "beta: 1.0], layer_groups=[Sequential(\n",
              "  (0): Embedding(44168, 400, padding_idx=1)\n",
              "  (1): EmbeddingDropout(\n",
              "    (emb): Embedding(44168, 400, padding_idx=1)\n",
              "  )\n",
              "), Sequential(\n",
              "  (0): WeightDropout(\n",
              "    (module): LSTM(400, 1152, batch_first=True)\n",
              "  )\n",
              "  (1): RNNDropout()\n",
              "), Sequential(\n",
              "  (0): WeightDropout(\n",
              "    (module): LSTM(1152, 1152, batch_first=True)\n",
              "  )\n",
              "  (1): RNNDropout()\n",
              "), Sequential(\n",
              "  (0): WeightDropout(\n",
              "    (module): LSTM(1152, 400, batch_first=True)\n",
              "  )\n",
              "  (1): RNNDropout()\n",
              "), Sequential(\n",
              "  (0): PoolingLinearClassifier(\n",
              "    (layers): Sequential(\n",
              "      (0): BatchNorm1d(1200, eps=1e-05, momentum=0.1, affine=True, track_running_stats=True)\n",
              "      (1): Dropout(p=0.2, inplace=False)\n",
              "      (2): Linear(in_features=1200, out_features=50, bias=True)\n",
              "      (3): ReLU(inplace=True)\n",
              "      (4): BatchNorm1d(50, eps=1e-05, momentum=0.1, affine=True, track_running_stats=True)\n",
              "      (5): Dropout(p=0.1, inplace=False)\n",
              "      (6): Linear(in_features=50, out_features=2, bias=True)\n",
              "    )\n",
              "  )\n",
              ")], add_time=True, silent=False)"
            ]
          },
          "metadata": {
            "tags": []
          },
          "execution_count": 17
        }
      ]
    },
    {
      "cell_type": "code",
      "metadata": {
        "id": "mLL6cVkhOmT4",
        "colab_type": "code",
        "colab": {
          "base_uri": "https://localhost:8080/",
          "height": 413
        },
        "outputId": "7763c663-0827-44bc-e5bc-3bb2883b1773"
      },
      "source": [
        "# tune the text_classifier_learner to accpetable accuracy (>80%)\n",
        "clas_learner.lr_find()\n",
        "clas_learner.recorder.plot(suggestion=True)"
      ],
      "execution_count": null,
      "outputs": [
        {
          "output_type": "display_data",
          "data": {
            "text/html": [
              "\n",
              "    <div>\n",
              "        <style>\n",
              "            /* Turns off some styling */\n",
              "            progress {\n",
              "                /* gets rid of default border in Firefox and Opera. */\n",
              "                border: none;\n",
              "                /* Needs to be in here for Safari polyfill so background images work as expected. */\n",
              "                background-size: auto;\n",
              "            }\n",
              "            .progress-bar-interrupted, .progress-bar-interrupted::-webkit-progress-bar {\n",
              "                background: #F44336;\n",
              "            }\n",
              "        </style>\n",
              "      <progress value='0' class='' max='1' style='width:300px; height:20px; vertical-align: middle;'></progress>\n",
              "      0.00% [0/1 00:00<00:00]\n",
              "    </div>\n",
              "    \n",
              "<table border=\"1\" class=\"dataframe\">\n",
              "  <thead>\n",
              "    <tr style=\"text-align: left;\">\n",
              "      <th>epoch</th>\n",
              "      <th>train_loss</th>\n",
              "      <th>valid_loss</th>\n",
              "      <th>accuracy</th>\n",
              "      <th>time</th>\n",
              "    </tr>\n",
              "  </thead>\n",
              "  <tbody>\n",
              "  </tbody>\n",
              "</table><p>\n",
              "\n",
              "    <div>\n",
              "        <style>\n",
              "            /* Turns off some styling */\n",
              "            progress {\n",
              "                /* gets rid of default border in Firefox and Opera. */\n",
              "                border: none;\n",
              "                /* Needs to be in here for Safari polyfill so background images work as expected. */\n",
              "                background-size: auto;\n",
              "            }\n",
              "            .progress-bar-interrupted, .progress-bar-interrupted::-webkit-progress-bar {\n",
              "                background: #F44336;\n",
              "            }\n",
              "        </style>\n",
              "      <progress value='93' class='' max='624' style='width:300px; height:20px; vertical-align: middle;'></progress>\n",
              "      14.90% [93/624 00:20<01:55 1.7164]\n",
              "    </div>\n",
              "    "
            ],
            "text/plain": [
              "<IPython.core.display.HTML object>"
            ]
          },
          "metadata": {
            "tags": []
          }
        },
        {
          "output_type": "stream",
          "text": [
            "LR Finder is complete, type {learner_name}.recorder.plot() to see the graph.\n",
            "Min numerical gradient: 1.74E-03\n",
            "Min loss divided by 10: 1.74E-02\n"
          ],
          "name": "stdout"
        },
        {
          "output_type": "display_data",
          "data": {
            "image/png": "[encoded data removed]",
            "text/plain": [
              "<Figure size 432x288 with 1 Axes>"
            ]
          },
          "metadata": {
            "tags": [],
            "needs_background": "light"
          }
        }
      ]
    },
    {
      "cell_type": "code",
      "metadata": {
        "id": "PiFdGLmR0es1",
        "colab_type": "code",
        "colab": {
          "base_uri": "https://localhost:8080/",
          "height": 81
        },
        "outputId": "41cf24fa-bc25-47ea-8f98-b3705396e324"
      },
      "source": [
        "lr = clas_learner.recorder.min_grad_lr\n",
        "clas_learner.fit_one_cycle(1,lr)"
      ],
      "execution_count": null,
      "outputs": [
        {
          "output_type": "display_data",
          "data": {
            "text/html": [
              "<table border=\"1\" class=\"dataframe\">\n",
              "  <thead>\n",
              "    <tr style=\"text-align: left;\">\n",
              "      <th>epoch</th>\n",
              "      <th>train_loss</th>\n",
              "      <th>valid_loss</th>\n",
              "      <th>accuracy</th>\n",
              "      <th>time</th>\n",
              "    </tr>\n",
              "  </thead>\n",
              "  <tbody>\n",
              "    <tr>\n",
              "      <td>0</td>\n",
              "      <td>0.457540</td>\n",
              "      <td>0.393880</td>\n",
              "      <td>0.825235</td>\n",
              "      <td>02:54</td>\n",
              "    </tr>\n",
              "  </tbody>\n",
              "</table>"
            ],
            "text/plain": [
              "<IPython.core.display.HTML object>"
            ]
          },
          "metadata": {
            "tags": []
          }
        }
      ]
    },
    {
      "cell_type": "code",
      "metadata": {
        "id": "HhXw3XMb6M5j",
        "colab_type": "code",
        "colab": {
          "base_uri": "https://localhost:8080/",
          "height": 477
        },
        "outputId": "d4e8a302-bfcd-4455-860b-fd7e604c58e1"
      },
      "source": [
        "clas_learner.freeze_to(-2)\n",
        "clas_learner.lr_find()\n",
        "clas_learner.recorder.plot(suggestion=True)\n",
        "lr = clas_learner.recorder.min_grad_lr\n",
        "clas_learner.fit_one_cycle(1, lr)"
      ],
      "execution_count": null,
      "outputs": [
        {
          "output_type": "display_data",
          "data": {
            "text/html": [
              "\n",
              "    <div>\n",
              "        <style>\n",
              "            /* Turns off some styling */\n",
              "            progress {\n",
              "                /* gets rid of default border in Firefox and Opera. */\n",
              "                border: none;\n",
              "                /* Needs to be in here for Safari polyfill so background images work as expected. */\n",
              "                background-size: auto;\n",
              "            }\n",
              "            .progress-bar-interrupted, .progress-bar-interrupted::-webkit-progress-bar {\n",
              "                background: #F44336;\n",
              "            }\n",
              "        </style>\n",
              "      <progress value='0' class='' max='1' style='width:300px; height:20px; vertical-align: middle;'></progress>\n",
              "      0.00% [0/1 00:00<00:00]\n",
              "    </div>\n",
              "    \n",
              "<table border=\"1\" class=\"dataframe\">\n",
              "  <thead>\n",
              "    <tr style=\"text-align: left;\">\n",
              "      <th>epoch</th>\n",
              "      <th>train_loss</th>\n",
              "      <th>valid_loss</th>\n",
              "      <th>accuracy</th>\n",
              "      <th>time</th>\n",
              "    </tr>\n",
              "  </thead>\n",
              "  <tbody>\n",
              "  </tbody>\n",
              "</table><p>\n",
              "\n",
              "    <div>\n",
              "        <style>\n",
              "            /* Turns off some styling */\n",
              "            progress {\n",
              "                /* gets rid of default border in Firefox and Opera. */\n",
              "                border: none;\n",
              "                /* Needs to be in here for Safari polyfill so background images work as expected. */\n",
              "                background-size: auto;\n",
              "            }\n",
              "            .progress-bar-interrupted, .progress-bar-interrupted::-webkit-progress-bar {\n",
              "                background: #F44336;\n",
              "            }\n",
              "        </style>\n",
              "      <progress value='92' class='' max='624' style='width:300px; height:20px; vertical-align: middle;'></progress>\n",
              "      14.74% [92/624 00:22<02:11 1.3692]\n",
              "    </div>\n",
              "    "
            ],
            "text/plain": [
              "<IPython.core.display.HTML object>"
            ]
          },
          "metadata": {
            "tags": []
          }
        },
        {
          "output_type": "stream",
          "text": [
            "LR Finder is complete, type {learner_name}.recorder.plot() to see the graph.\n",
            "Min numerical gradient: 6.31E-07\n",
            "Min loss divided by 10: 9.12E-08\n"
          ],
          "name": "stdout"
        },
        {
          "output_type": "display_data",
          "data": {
            "text/html": [
              "<table border=\"1\" class=\"dataframe\">\n",
              "  <thead>\n",
              "    <tr style=\"text-align: left;\">\n",
              "      <th>epoch</th>\n",
              "      <th>train_loss</th>\n",
              "      <th>valid_loss</th>\n",
              "      <th>accuracy</th>\n",
              "      <th>time</th>\n",
              "    </tr>\n",
              "  </thead>\n",
              "  <tbody>\n",
              "    <tr>\n",
              "      <td>0</td>\n",
              "      <td>0.456462</td>\n",
              "      <td>0.395454</td>\n",
              "      <td>0.821636</td>\n",
              "      <td>03:23</td>\n",
              "    </tr>\n",
              "  </tbody>\n",
              "</table>"
            ],
            "text/plain": [
              "<IPython.core.display.HTML object>"
            ]
          },
          "metadata": {
            "tags": []
          }
        },
        {
          "output_type": "display_data",
          "data": {
            "image/png": "[encoded data removed]",
            "text/plain": [
              "<Figure size 432x288 with 1 Axes>"
            ]
          },
          "metadata": {
            "tags": [],
            "needs_background": "light"
          }
        }
      ]
    },
    {
      "cell_type": "code",
      "metadata": {
        "id": "0Z04D7Uc6mNb",
        "colab_type": "code",
        "colab": {
          "base_uri": "https://localhost:8080/",
          "height": 477
        },
        "outputId": "25a7b2b1-f4be-4652-ce64-198d339b9cf2"
      },
      "source": [
        "clas_learner.freeze_to(-2)\n",
        "clas_learner.lr_find()\n",
        "clas_learner.recorder.plot(suggestion=True)\n",
        "lr = clas_learner.recorder.min_grad_lr\n",
        "clas_learner.fit_one_cycle(1, lr)"
      ],
      "execution_count": null,
      "outputs": [
        {
          "output_type": "display_data",
          "data": {
            "text/html": [
              "\n",
              "    <div>\n",
              "        <style>\n",
              "            /* Turns off some styling */\n",
              "            progress {\n",
              "                /* gets rid of default border in Firefox and Opera. */\n",
              "                border: none;\n",
              "                /* Needs to be in here for Safari polyfill so background images work as expected. */\n",
              "                background-size: auto;\n",
              "            }\n",
              "            .progress-bar-interrupted, .progress-bar-interrupted::-webkit-progress-bar {\n",
              "                background: #F44336;\n",
              "            }\n",
              "        </style>\n",
              "      <progress value='0' class='' max='1' style='width:300px; height:20px; vertical-align: middle;'></progress>\n",
              "      0.00% [0/1 00:00<00:00]\n",
              "    </div>\n",
              "    \n",
              "<table border=\"1\" class=\"dataframe\">\n",
              "  <thead>\n",
              "    <tr style=\"text-align: left;\">\n",
              "      <th>epoch</th>\n",
              "      <th>train_loss</th>\n",
              "      <th>valid_loss</th>\n",
              "      <th>accuracy</th>\n",
              "      <th>time</th>\n",
              "    </tr>\n",
              "  </thead>\n",
              "  <tbody>\n",
              "  </tbody>\n",
              "</table><p>\n",
              "\n",
              "    <div>\n",
              "        <style>\n",
              "            /* Turns off some styling */\n",
              "            progress {\n",
              "                /* gets rid of default border in Firefox and Opera. */\n",
              "                border: none;\n",
              "                /* Needs to be in here for Safari polyfill so background images work as expected. */\n",
              "                background-size: auto;\n",
              "            }\n",
              "            .progress-bar-interrupted, .progress-bar-interrupted::-webkit-progress-bar {\n",
              "                background: #F44336;\n",
              "            }\n",
              "        </style>\n",
              "      <progress value='92' class='' max='624' style='width:300px; height:20px; vertical-align: middle;'></progress>\n",
              "      14.74% [92/624 00:20<01:57 1.0481]\n",
              "    </div>\n",
              "    "
            ],
            "text/plain": [
              "<IPython.core.display.HTML object>"
            ]
          },
          "metadata": {
            "tags": []
          }
        },
        {
          "output_type": "stream",
          "text": [
            "LR Finder is complete, type {learner_name}.recorder.plot() to see the graph.\n",
            "Min numerical gradient: 2.29E-06\n",
            "Min loss divided by 10: 4.79E-07\n"
          ],
          "name": "stdout"
        },
        {
          "output_type": "display_data",
          "data": {
            "text/html": [
              "<table border=\"1\" class=\"dataframe\">\n",
              "  <thead>\n",
              "    <tr style=\"text-align: left;\">\n",
              "      <th>epoch</th>\n",
              "      <th>train_loss</th>\n",
              "      <th>valid_loss</th>\n",
              "      <th>accuracy</th>\n",
              "      <th>time</th>\n",
              "    </tr>\n",
              "  </thead>\n",
              "  <tbody>\n",
              "    <tr>\n",
              "      <td>0</td>\n",
              "      <td>0.446593</td>\n",
              "      <td>0.394998</td>\n",
              "      <td>0.825235</td>\n",
              "      <td>03:21</td>\n",
              "    </tr>\n",
              "  </tbody>\n",
              "</table>"
            ],
            "text/plain": [
              "<IPython.core.display.HTML object>"
            ]
          },
          "metadata": {
            "tags": []
          }
        },
        {
          "output_type": "display_data",
          "data": {
            "image/png": "[encoded data removed]",
            "text/plain": [
              "<Figure size 432x288 with 1 Axes>"
            ]
          },
          "metadata": {
            "tags": [],
            "needs_background": "light"
          }
        }
      ]
    },
    {
      "cell_type": "code",
      "metadata": {
        "id": "6VHA0eRISBbF",
        "colab_type": "code",
        "colab": {
          "base_uri": "https://localhost:8080/",
          "height": 35
        },
        "outputId": "d2e8e547-9ad5-4874-f880-54a103c6ffb7"
      },
      "source": [
        "clas_learner.predict(\"This is a horrible movie.\")"
      ],
      "execution_count": null,
      "outputs": [
        {
          "output_type": "execute_result",
          "data": {
            "text/plain": [
              "(Category tensor(1), tensor(1), tensor([0.1198, 0.8802]))"
            ]
          },
          "metadata": {
            "tags": []
          },
          "execution_count": 35
        }
      ]
    },
    {
      "cell_type": "code",
      "metadata": {
        "id": "CXgIKlWb-Q8D",
        "colab_type": "code",
        "colab": {
          "base_uri": "https://localhost:8080/",
          "height": 35
        },
        "outputId": "c6936eb6-00b1-4f40-f1d2-d21ca0aa6fa8"
      },
      "source": [
        "clas_learner.predict(\"This is a great movie,\")"
      ],
      "execution_count": null,
      "outputs": [
        {
          "output_type": "execute_result",
          "data": {
            "text/plain": [
              "(Category tensor(1), tensor(1), tensor([7.7768e-04, 9.9922e-01]))"
            ]
          },
          "metadata": {
            "tags": []
          },
          "execution_count": 36
        }
      ]
    },
    {
      "cell_type": "code",
      "metadata": {
        "id": "mazhyIrA-R0m",
        "colab_type": "code",
        "colab": {
          "base_uri": "https://localhost:8080/",
          "height": 35
        },
        "outputId": "8ab44e90-df8b-400f-8dd1-562e6f95c347"
      },
      "source": [
        "# Check the label mapping\n",
        "# suppose it returns {'negative': 0, 'positive': 1}\n",
        "data_clas.train_ds.y.c2i"
      ],
      "execution_count": null,
      "outputs": [
        {
          "output_type": "execute_result",
          "data": {
            "text/plain": [
              "{'negative': 0, 'positive': 1}"
            ]
          },
          "metadata": {
            "tags": []
          },
          "execution_count": 37
        }
      ]
    },
    {
      "cell_type": "code",
      "metadata": {
        "id": "-YRl2rhMPvuW",
        "colab_type": "code",
        "colab": {}
      },
      "source": [
        "import pandas as pd\n",
        "\n",
        "\n",
        "df = pd.read_csv(path+\"/test.csv\")\n",
        "y_true = tensor(df[\"sentiment\"]==\"positive\")"
      ],
      "execution_count": 40,
      "outputs": []
    },
    {
      "cell_type": "code",
      "metadata": {
        "id": "oRekyOZ-1qQ1",
        "colab_type": "code",
        "colab": {
          "base_uri": "https://localhost:8080/",
          "height": 311
        },
        "outputId": "e30c6ae8-07fd-4cb7-a10e-f7fd694a4502"
      },
      "source": [
        "interp = TextClassificationInterpretation.from_learner(\n",
        "    clas_learner, \n",
        "    ds_type=DatasetType.Test\n",
        ")\n",
        "interp.y_true = tensor(df[\"sentiment\"]==\"positive\")\n",
        "interp.plot_confusion_matrix()"
      ],
      "execution_count": null,
      "outputs": [
        {
          "output_type": "display_data",
          "data": {
            "text/html": [
              ""
            ],
            "text/plain": [
              "<IPython.core.display.HTML object>"
            ]
          },
          "metadata": {
            "tags": []
          }
        },
        {
          "output_type": "display_data",
          "data": {
            "image/png": "[encoded data removed]",
            "text/plain": [
              "<Figure size 432x288 with 1 Axes>"
            ]
          },
          "metadata": {
            "tags": [],
            "needs_background": "light"
          }
        }
      ]
    },
    {
      "cell_type": "code",
      "metadata": {
        "id": "Ov9w-uNT8Ldd",
        "colab_type": "code",
        "colab": {
          "base_uri": "https://localhost:8080/",
          "height": 35
        },
        "outputId": "96e3fd5f-c388-4363-cd3a-c51402de99a0"
      },
      "source": [
        "from fastai.metrics import accuracy\n",
        "\n",
        "accuracy(interp.preds, interp.y_true)"
      ],
      "execution_count": null,
      "outputs": [
        {
          "output_type": "execute_result",
          "data": {
            "text/plain": [
              "tensor(0.8313)"
            ]
          },
          "metadata": {
            "tags": []
          },
          "execution_count": 32
        }
      ]
    }
  ]
}